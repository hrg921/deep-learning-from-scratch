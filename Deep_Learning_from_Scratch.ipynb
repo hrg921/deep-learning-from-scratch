{
  "nbformat": 4,
  "nbformat_minor": 0,
  "metadata": {
    "colab": {
      "name": "Deep Learning from Scratch.ipynb",
      "version": "0.3.2",
      "provenance": [],
      "toc_visible": true,
      "include_colab_link": true
    },
    "kernelspec": {
      "name": "python3",
      "display_name": "Python 3"
    }
  },
  "cells": [
    {
      "cell_type": "markdown",
      "metadata": {
        "id": "view-in-github",
        "colab_type": "text"
      },
      "source": [
        "<a href=\"https://colab.research.google.com/github/hrg921/deep-learning-from-scratch/blob/master/Deep_Learning_from_Scratch.ipynb\" target=\"_parent\"><img src=\"https://colab.research.google.com/assets/colab-badge.svg\" alt=\"Open In Colab\"/></a>"
      ]
    },
    {
      "metadata": {
        "id": "0o93fzHpMsvX",
        "colab_type": "text"
      },
      "cell_type": "markdown",
      "source": [
        "# Deep Learning from Scratch\n",
        "\n",
        "This notebook's purpose is to study the book 'Deep Learning from Scratch' by Saito Goki."
      ]
    },
    {
      "metadata": {
        "id": "AYt29fRxrpSx",
        "colab_type": "code",
        "colab": {}
      },
      "cell_type": "code",
      "source": [
        "import numpy as np\n",
        "import matplotlib.pylab as plt\n",
        "import pandas as pd"
      ],
      "execution_count": 0,
      "outputs": []
    },
    {
      "metadata": {
        "id": "lUS4ip3eKueH",
        "colab_type": "text"
      },
      "cell_type": "markdown",
      "source": [
        "## MNIST Database - Wikipedia\n",
        "The MNIST database (Modified National Institute of Standards and Technology database) is a large database of handwritten digits that is commonly used for training various image processing systems.[1][2] The database is also widely used for training and testing in the field of machine learning.[3][4] It was created by \"re-mixing\" the samples from NIST's original datasets. The creators felt that since NIST's training dataset was taken from American Census Bureau employees, while the testing dataset was taken from American high school students, it was not well-suited for machine learning experiments.[5] Furthermore, the black and white images from NIST were normalized to fit into a 28x28 pixel bounding box and anti-aliased, which introduced grayscale levels.[5]\n",
        "\n",
        "MNIST sample images.\n",
        "The MNIST database contains 60,000 training images and 10,000 testing images.[6] Half of the training set and half of the test set were taken from NIST's training dataset, while the other half of the training set and the other half of the test set were taken from NIST's testing dataset.[7] There have been a number of scientific papers on attempts to achieve the lowest error rate; one paper, using a hierarchical system of convolutional neural networks, manages to get an error rate on the MNIST database of 0.23%.[8] The original creators of the database keep a list of some of the methods tested on it.[5] In their original paper, they use a support vector machine to get an error rate of 0.8%.[9] An extended dataset similar to MNIST called EMNIST has been published in 2017, which contains 240,000 training images, and 40,000 testing images of handwritten digits and characters.[10]"
      ]
    },
    {
      "metadata": {
        "id": "ogPiscgBK869",
        "colab_type": "code",
        "colab": {}
      },
      "cell_type": "code",
      "source": [
        "# https://github.com/ziwon/deep-learning-from-scratch/blob/master/dataset/mnist.py\n",
        "try:\n",
        "    import urllib.request\n",
        "except ImportError:\n",
        "    raise ImportError('You should use Python 3.x')\n",
        "import os.path\n",
        "import gzip\n",
        "import pickle\n",
        "import os\n",
        "\n",
        "url_base = 'http://yann.lecun.com/exdb/mnist/'\n",
        "key_file = {\n",
        "    'train_img':'train-images-idx3-ubyte.gz',\n",
        "    'train_label':'train-labels-idx1-ubyte.gz',\n",
        "    'test_img':'t10k-images-idx3-ubyte.gz',\n",
        "    'test_label':'t10k-labels-idx1-ubyte.gz'\n",
        "}\n",
        "\n",
        "dataset_dir = os.path.dirname(os.path.realpath(\"__file__\"))\n",
        "save_file = dataset_dir + \"/mnist.pkl\"\n",
        "\n",
        "train_num = 60000\n",
        "test_num = 10000\n",
        "img_dim = (1, 28, 28)\n",
        "img_size = 784\n",
        "\n",
        "\n",
        "def _download(file_name):\n",
        "    file_path = dataset_dir + \"/\" + file_name\n",
        "\n",
        "    if os.path.exists(file_path):\n",
        "        return\n",
        "\n",
        "    print(\"Downloading \" + file_name + \" ... \")\n",
        "    urllib.request.urlretrieve(url_base + file_name, file_path)\n",
        "    print(\"Done\")\n",
        "\n",
        "def download_mnist():\n",
        "    for v in key_file.values():\n",
        "       _download(v)\n",
        "\n",
        "def _load_label(file_name):\n",
        "    file_path = dataset_dir + \"/\" + file_name\n",
        "\n",
        "    print(\"Converting \" + file_name + \" to NumPy Array ...\")\n",
        "    with gzip.open(file_path, 'rb') as f:\n",
        "            labels = np.frombuffer(f.read(), np.uint8, offset=8)\n",
        "    print(\"Done\")\n",
        "\n",
        "    return labels\n",
        "\n",
        "def _load_img(file_name):\n",
        "    file_path = dataset_dir + \"/\" + file_name\n",
        "\n",
        "    print(\"Converting \" + file_name + \" to NumPy Array ...\")\n",
        "    with gzip.open(file_path, 'rb') as f:\n",
        "            data = np.frombuffer(f.read(), np.uint8, offset=16)\n",
        "    data = data.reshape(-1, img_size)\n",
        "    print(\"Done\")\n",
        "\n",
        "    return data\n",
        "\n",
        "def _convert_numpy():\n",
        "    dataset = {}\n",
        "    dataset['train_img'] =  _load_img(key_file['train_img'])\n",
        "    dataset['train_label'] = _load_label(key_file['train_label'])\n",
        "    dataset['test_img'] = _load_img(key_file['test_img'])\n",
        "    dataset['test_label'] = _load_label(key_file['test_label'])\n",
        "\n",
        "    return dataset\n",
        "\n",
        "def init_mnist():\n",
        "    download_mnist()\n",
        "    dataset = _convert_numpy()\n",
        "    print(\"Creating pickle file ...\")\n",
        "    with open(save_file, 'wb') as f:\n",
        "        pickle.dump(dataset, f, -1)\n",
        "    print(\"Done!\")\n",
        "\n",
        "def _change_ont_hot_label(X):\n",
        "    T = np.zeros((X.size, 10))\n",
        "    for idx, row in enumerate(T):\n",
        "        row[X[idx]] = 1\n",
        "\n",
        "    return T\n",
        "\n",
        "\n",
        "def load_mnist(normalize=True, flatten=True, one_hot_label=False):\n",
        "    \"\"\"MNISTデータセットの読み込み\n",
        "    Parameters\n",
        "    ----------\n",
        "    normalize : 画像のピクセル値を0.0~1.0に正規化する\n",
        "    one_hot_label :\n",
        "        one_hot_labelがTrueの場合、ラベルはone-hot配列として返す\n",
        "        one-hot配列とは、たとえば[0,0,1,0,0,0,0,0,0,0]のような配列\n",
        "    flatten : 画像を一次元配列に平にするかどうか\n",
        "    Returns\n",
        "    -------\n",
        "    (訓練画像, 訓練ラベル), (テスト画像, テストラベル)\n",
        "    \"\"\"\n",
        "    if not os.path.exists(save_file):\n",
        "        init_mnist()\n",
        "\n",
        "    with open(save_file, 'rb') as f:\n",
        "        dataset = pickle.load(f)\n",
        "\n",
        "    if normalize:\n",
        "        for key in ('train_img', 'test_img'):\n",
        "            dataset[key] = dataset[key].astype(np.float32)\n",
        "            dataset[key] /= 255.0\n",
        "\n",
        "    if one_hot_label:\n",
        "        dataset['train_label'] = _change_ont_hot_label(dataset['train_label'])\n",
        "        dataset['test_label'] = _change_ont_hot_label(dataset['test_label'])\n",
        "\n",
        "    if not flatten:\n",
        "         for key in ('train_img', 'test_img'):\n",
        "            dataset[key] = dataset[key].reshape(-1, 1, 28, 28)\n",
        "\n",
        "    return (dataset['train_img'], dataset['train_label']), (dataset['test_img'], dataset['test_label'])"
      ],
      "execution_count": 0,
      "outputs": []
    },
    {
      "metadata": {
        "id": "_kBLwju0Lor-",
        "colab_type": "code",
        "colab": {}
      },
      "cell_type": "code",
      "source": [
        "import sys"
      ],
      "execution_count": 0,
      "outputs": []
    },
    {
      "metadata": {
        "id": "SoG8FpOHMsSF",
        "colab_type": "text"
      },
      "cell_type": "markdown",
      "source": [
        "### Test Data Load"
      ]
    },
    {
      "metadata": {
        "id": "nO2pgBCQL0CV",
        "colab_type": "code",
        "colab": {
          "base_uri": "https://localhost:8080/",
          "height": 89
        },
        "outputId": "58276579-8232-4402-d263-7ed2f5096fe7"
      },
      "cell_type": "code",
      "source": [
        "sys.path.append(os.pardir)\n",
        "\n",
        "(x_train, t_train), (x_test, t_test) = \\\n",
        "  load_mnist(flatten=True, normalize=False)\n",
        "\n",
        "print(x_train.shape)\n",
        "print(t_train.shape)\n",
        "print(x_test.shape)\n",
        "print(t_test.shape)"
      ],
      "execution_count": 38,
      "outputs": [
        {
          "output_type": "stream",
          "text": [
            "(60000, 784)\n",
            "(60000,)\n",
            "(10000, 784)\n",
            "(10000,)\n"
          ],
          "name": "stdout"
        }
      ]
    },
    {
      "metadata": {
        "id": "UTd4qt4UMvEZ",
        "colab_type": "text"
      },
      "cell_type": "markdown",
      "source": [
        "### Test Image Open"
      ]
    },
    {
      "metadata": {
        "id": "n-s2hQFYMyc8",
        "colab_type": "code",
        "colab": {}
      },
      "cell_type": "code",
      "source": [
        "from PIL import Image\n",
        "from IPython.display import display"
      ],
      "execution_count": 0,
      "outputs": []
    },
    {
      "metadata": {
        "id": "46huLA-hM2GE",
        "colab_type": "code",
        "colab": {}
      },
      "cell_type": "code",
      "source": [
        "def img_show(img):\n",
        "  pil_img = Image.fromarray(np.uint8(img))\n",
        "  display(pil_img)"
      ],
      "execution_count": 0,
      "outputs": []
    },
    {
      "metadata": {
        "id": "l6wP-Bq_NA9r",
        "colab_type": "code",
        "colab": {
          "base_uri": "https://localhost:8080/",
          "height": 155
        },
        "outputId": "352503d4-8a7c-4d22-d996-7835642a2d91"
      },
      "cell_type": "code",
      "source": [
        "img0 = x_train[0].reshape(28, 28)\n",
        "img1 = x_train[1].reshape(28, 28)\n",
        "img2 = x_train[2].reshape(28, 28)\n",
        "\n",
        "label0 = t_train[0]\n",
        "label1 = t_train[1]\n",
        "label2 = t_train[2]\n",
        "\n",
        "print(label0)\n",
        "img_show(img0)\n",
        "print(label1)\n",
        "img_show(img1)\n",
        "print(label2)\n",
        "img_show(img2)"
      ],
      "execution_count": 41,
      "outputs": [
        {
          "output_type": "stream",
          "text": [
            "5\n"
          ],
          "name": "stdout"
        },
        {
          "output_type": "display_data",
          "data": {
            "image/png": "[encoded data removed]",
            "text/plain": [
              "<PIL.Image.Image image mode=L size=28x28 at 0x7F16998C9DA0>"
            ]
          },
          "metadata": {
            "tags": []
          }
        },
        {
          "output_type": "stream",
          "text": [
            "0\n"
          ],
          "name": "stdout"
        },
        {
          "output_type": "display_data",
          "data": {
            "image/png": "[encoded data removed]",
            "text/plain": [
              "<PIL.Image.Image image mode=L size=28x28 at 0x7F1699973B38>"
            ]
          },
          "metadata": {
            "tags": []
          }
        },
        {
          "output_type": "stream",
          "text": [
            "4\n"
          ],
          "name": "stdout"
        },
        {
          "output_type": "display_data",
          "data": {
            "image/png": "[encoded data removed]",
            "text/plain": [
              "<PIL.Image.Image image mode=L size=28x28 at 0x7F1699973B38>"
            ]
          },
          "metadata": {
            "tags": []
          }
        }
      ]
    },
    {
      "metadata": {
        "id": "il3O6oUkOE-E",
        "colab_type": "text"
      },
      "cell_type": "markdown",
      "source": [
        "## Perceptron\n",
        "\n",
        "### Wikipedia\n",
        "In machine learning, the perceptron is an algorithm for supervised learning of binary classifiers. A binary classifier is a function which can decide whether or not an input, represented by a vector of numbers, belongs to some specific class. It is a type of linear classifier, i.e. a classification algorithm that makes its predictions based on a linear predictor function combining a set of weights with the feature vector."
      ]
    },
    {
      "metadata": {
        "id": "0hG6K1J-PHLs",
        "colab_type": "text"
      },
      "cell_type": "markdown",
      "source": [
        "#### AND Gate\n",
        "\n",
        "##### Truth Table\n",
        "| x<sub>1</sub> | x<sub>2</sub> | y |\n",
        "|---------------|---------------|---|\n",
        "| 0             | 0             | 0 |\n",
        "| 1             | 0             | 0 |\n",
        "| 0             | 1             | 0 |\n",
        "| 1             | 1             | 1 |\n",
        "\n",
        "##### Mathematical Expression\n",
        "$$\n",
        "b = -0.7 \\\\\n",
        "w_1 = 0.5 \\\\\n",
        "w_2 = 0.5\\\\\n",
        "$$\n",
        "$$\n",
        "y =\n",
        "\\begin{cases}\n",
        " \\ 1 \\,\\,(b + w_1x_1+w_2x_2 \\geq 0) \\\\\n",
        " \\ 0 \\,\\,(b + w_1x_1+w_2x_2 < 0)\n",
        "\\end{cases}\n",
        "$$"
      ]
    },
    {
      "metadata": {
        "id": "QakLIw6tMeL3",
        "colab_type": "code",
        "colab": {}
      },
      "cell_type": "code",
      "source": [
        "def AND(x1, x2):\n",
        "  x = np.array([x1, x2])\n",
        "  w = np.array([0.5, 0.5])\n",
        "  b = -0.7\n",
        "  tmp = np.sum(w * x) + b\n",
        "  \n",
        "  if tmp <= 0:\n",
        "    return 0\n",
        "  else:\n",
        "    return 1"
      ],
      "execution_count": 0,
      "outputs": []
    },
    {
      "metadata": {
        "id": "Dk1wEYG0QdS7",
        "colab_type": "code",
        "outputId": "d866f607-3e34-416e-8451-44a397dd7f10",
        "colab": {
          "base_uri": "https://localhost:8080/",
          "height": 89
        }
      },
      "cell_type": "code",
      "source": [
        "print(\"AND 0, 0: \", AND(0, 0))\n",
        "print(\"AND 0, 1: \", AND(0, 1))\n",
        "print(\"AND 1, 0: \", AND(1, 0))\n",
        "print(\"AND 1, 1: \", AND(1, 1))"
      ],
      "execution_count": 44,
      "outputs": [
        {
          "output_type": "stream",
          "text": [
            "AND 0, 0:  0\n",
            "AND 0, 1:  0\n",
            "AND 1, 0:  0\n",
            "AND 1, 1:  1\n"
          ],
          "name": "stdout"
        }
      ]
    },
    {
      "metadata": {
        "id": "eCjgfX4MsHY3",
        "colab_type": "text"
      },
      "cell_type": "markdown",
      "source": [
        "#### NAND Gate\n",
        "\n",
        "##### Truth Table\n",
        "| x<sub>1</sub> | x<sub>2</sub> | y |\n",
        "|---------------|---------------|---|\n",
        "| 0             | 0             | 1 |\n",
        "| 1             | 0             | 1 |\n",
        "| 0             | 1             | 1 |\n",
        "| 1             | 1             | 0 |\n",
        "\n",
        "##### Mathematicl Expression\n",
        "$$\n",
        "b = 0.7 \\\\\n",
        "w_1 = -0.5 \\\\\n",
        "w_2 = -0.5\\\\\n",
        "$$\n",
        "$$\n",
        "y =\n",
        "\\begin{cases}\n",
        " \\ 1 \\,\\,(b + w_1x_1+w_2x_2 \\geq 0) \\\\\n",
        " \\ 0 \\,\\,(b + w_1x_1+w_2x_2 <0)\n",
        "\\end{cases}\n",
        "$$"
      ]
    },
    {
      "metadata": {
        "id": "RAekBlgCQvF5",
        "colab_type": "code",
        "colab": {}
      },
      "cell_type": "code",
      "source": [
        "def NAND(x1, x2):\n",
        "  tmp = AND(x1, x2)\n",
        "  if tmp == 0:\n",
        "    return 1\n",
        "  else:\n",
        "    return 0"
      ],
      "execution_count": 0,
      "outputs": []
    },
    {
      "metadata": {
        "id": "4RvFmjeSsu_p",
        "colab_type": "code",
        "outputId": "25ebe04d-2bdb-4181-d285-6c037aefea7c",
        "colab": {
          "base_uri": "https://localhost:8080/",
          "height": 89
        }
      },
      "cell_type": "code",
      "source": [
        "print(\"NAND 0, 0: \", NAND(0, 0))\n",
        "print(\"NAND 0, 1: \", NAND(0, 1))\n",
        "print(\"NAND 1, 0: \", NAND(1, 0))\n",
        "print(\"NAND 1, 1: \", NAND(1, 1))"
      ],
      "execution_count": 46,
      "outputs": [
        {
          "output_type": "stream",
          "text": [
            "NAND 0, 0:  1\n",
            "NAND 0, 1:  1\n",
            "NAND 1, 0:  1\n",
            "NAND 1, 1:  0\n"
          ],
          "name": "stdout"
        }
      ]
    },
    {
      "metadata": {
        "id": "puF3-G39uys-",
        "colab_type": "text"
      },
      "cell_type": "markdown",
      "source": [
        "#### OR Gate\n",
        "\n",
        "##### Truth Table\n",
        "| x<sub>1</sub> | x<sub>2</sub> | y |\n",
        "|---------------|---------------|---|\n",
        "| 0             | 0             | 0 |\n",
        "| 1             | 0             | 1 |\n",
        "| 0             | 1             | 1 |\n",
        "| 1             | 1             | 1 |\n",
        "\n",
        "##### Mathematical Expression\n",
        "$$\n",
        "b = - 0.2 \\\\\n",
        "w_1 = 0.5 \\\\\n",
        "w_2 = 0.5 \\\\\n",
        "$$\n",
        "$$\n",
        "y =\n",
        "\\begin{cases}\n",
        " \\ 1 \\,\\,(b + w_1x_1+w_2x_2 \\geq 0) \\\\\n",
        " \\ 0 \\,\\,(b + w_1x_1+w_2x_2 <0)\n",
        "\\end{cases}\n",
        "$$"
      ]
    },
    {
      "metadata": {
        "id": "bPiWo7C6vVnQ",
        "colab_type": "code",
        "colab": {}
      },
      "cell_type": "code",
      "source": [
        "def OR(x1, x2):\n",
        "  x = np.array([x1, x2])\n",
        "  w = np.array([0.5, 0.5])\n",
        "  b = -0.2\n",
        "  tmp = np.sum(w * x) + b\n",
        "  \n",
        "  if tmp >= 0:\n",
        "    return 1\n",
        "  else:\n",
        "    return 0"
      ],
      "execution_count": 0,
      "outputs": []
    },
    {
      "metadata": {
        "id": "hfgqxg5xxGl_",
        "colab_type": "code",
        "outputId": "7b18aea1-7447-4642-ec86-cbc80accc834",
        "colab": {
          "base_uri": "https://localhost:8080/",
          "height": 89
        }
      },
      "cell_type": "code",
      "source": [
        "print(\"OR 0, 0: \", OR(0, 0))\n",
        "print(\"OR 0, 1: \", OR(0, 1))\n",
        "print(\"OR 1, 0: \", OR(1, 0))\n",
        "print(\"OR 1, 1: \", OR(1, 1))"
      ],
      "execution_count": 48,
      "outputs": [
        {
          "output_type": "stream",
          "text": [
            "OR 0, 0:  0\n",
            "OR 0, 1:  1\n",
            "OR 1, 0:  1\n",
            "OR 1, 1:  1\n"
          ],
          "name": "stdout"
        }
      ]
    },
    {
      "metadata": {
        "id": "gSvFo4_eoVgq",
        "colab_type": "text"
      },
      "cell_type": "markdown",
      "source": [
        "#### XOR Gate\n",
        "\n",
        "##### Truth Table\n",
        "| x<sub>1</sub> | x<sub>2</sub> | y |\n",
        "|---------------|---------------|---|\n",
        "| 0             | 0             | 0 |\n",
        "| 1             | 0             | 1 |\n",
        "| 0             | 1             | 1 |\n",
        "| 1             | 1             | 0 |\n",
        "\n",
        "##### Mathematical Expression\n",
        "No Mathematical Expression because XOR cannot be represented by linear function."
      ]
    },
    {
      "metadata": {
        "id": "cK1I3WuAoVKo",
        "colab_type": "code",
        "colab": {}
      },
      "cell_type": "code",
      "source": [
        "def XOR(x1, x2):\n",
        "  return AND(NAND(x1, x2), OR(x1, x2))"
      ],
      "execution_count": 0,
      "outputs": []
    },
    {
      "metadata": {
        "id": "CbOqmxbKpAfL",
        "colab_type": "code",
        "outputId": "2f535da9-7c68-4d37-d637-5eaa57f281a5",
        "colab": {
          "base_uri": "https://localhost:8080/",
          "height": 89
        }
      },
      "cell_type": "code",
      "source": [
        "print(\"XOR 0, 0: \", XOR(0, 0))\n",
        "print(\"XOR 0, 1: \", XOR(0, 1))\n",
        "print(\"XOR 1, 0: \", XOR(1, 0))\n",
        "print(\"XOR 1, 1: \", XOR(1, 1))"
      ],
      "execution_count": 50,
      "outputs": [
        {
          "output_type": "stream",
          "text": [
            "XOR 0, 0:  0\n",
            "XOR 0, 1:  1\n",
            "XOR 1, 0:  1\n",
            "XOR 1, 1:  0\n"
          ],
          "name": "stdout"
        }
      ]
    },
    {
      "metadata": {
        "id": "vv3-08BopStz",
        "colab_type": "text"
      },
      "cell_type": "markdown",
      "source": [
        "## Neural Network Basic\n",
        "In perceptron, we decided weight and bias in hand.\n",
        "\n",
        "### Wikipedia\n",
        "A neural network is a network or circuit of neurons, or in a modern sense, an artificial neural network, composed of artificial neurons or nodes.[1] Thus a neural network is either a biological neural network, made up of real biological neurons, or an artificial neural network, for solving artificial intelligence (AI) problems. The connections of the biological neuron are modeled as weights. A positive weight reflects an excitatory connection, while negative values mean inhibitory connections. All inputs are modified by a weight and summed. This activity is referred as a linear combination. Finally, an activation function controls the amplitude of the output. For example, an acceptable range of output is usually between 0 and 1, or it could be −1 and 1.\n",
        "\n",
        "![Simple Neural Network](https://upload.wikimedia.org/wikipedia/commons/thumb/9/99/Neural_network_example.svg/1280px-Neural_network_example.svg.png =150x)\n"
      ]
    },
    {
      "metadata": {
        "id": "KHhQt4p3r2xI",
        "colab_type": "text"
      },
      "cell_type": "markdown",
      "source": [
        "### Activation Function\n",
        "\n",
        "#### Wikipedia\n",
        "In artificial neural networks, the activation function of a node defines the output of that node, or \"neuron,\" given an input or set of inputs. This output is then used as input for the next node and so on until a desired solution to the original problem is found.\n",
        "\n",
        "It maps the resulting values into the desired range such as between 0 to 1 or -1 to 1 etc. (depending upon the choice of activation function). For example, the use of the logistic activation function would map all inputs in the real number domain into the range of 0 to 1.\n",
        "\n",
        "A standard computer chip circuit can be seen as a digital network of activation functions that can be \"ON\" (1) or \"OFF\" (0), depending on input. This is similar to the behavior of the linear perceptron in neural networks. However, only nonlinear activation functions allow such networks to compute nontrivial problems using only a small number of nodes. In artificial neural networks, this function is also called the transfer function.\n",
        "\n",
        "##### Example - Logistic Activation function\n",
        "![Logistic Activation Function](https://upload.wikimedia.org/wikipedia/commons/thumb/8/88/Logistic-curve.svg/2560px-Logistic-curve.svg.png =x150)"
      ]
    },
    {
      "metadata": {
        "id": "pFR9PYlrsI6o",
        "colab_type": "text"
      },
      "cell_type": "markdown",
      "source": [
        "#### Step Function\n",
        "\n",
        "##### Mathematical Expression\n",
        "$$\n",
        "h(x) =\n",
        "\\begin{cases}\n",
        " \\ 1 \\,\\,(x > 0) \\\\\n",
        " \\ 0 \\,\\,(x \\leq 0)\n",
        "\\end{cases}\n",
        "$$"
      ]
    },
    {
      "metadata": {
        "id": "MHut7tiOsfuz",
        "colab_type": "code",
        "colab": {}
      },
      "cell_type": "code",
      "source": [
        "def step_function(x):\n",
        "  y = x > 0\n",
        "  return y.astype(np.int)"
      ],
      "execution_count": 0,
      "outputs": []
    },
    {
      "metadata": {
        "id": "jBU4aV7Fsy8F",
        "colab_type": "code",
        "outputId": "457634c7-c849-4e36-917a-090a4af00dee",
        "colab": {
          "base_uri": "https://localhost:8080/",
          "height": 265
        }
      },
      "cell_type": "code",
      "source": [
        "x = np.arange(-5.0, 5.0, 0.1)\n",
        "y = step_function(x)\n",
        "\n",
        "plt.plot(x, y)\n",
        "plt.ylim(-0.1, 1.1)\n",
        "plt.show()"
      ],
      "execution_count": 52,
      "outputs": [
        {
          "output_type": "display_data",
          "data": {
            "image/png": "[encoded data removed]",
            "text/plain": [
              "<Figure size 432x288 with 1 Axes>"
            ]
          },
          "metadata": {
            "tags": []
          }
        }
      ]
    },
    {
      "metadata": {
        "id": "wDBJxMgZtau0",
        "colab_type": "text"
      },
      "cell_type": "markdown",
      "source": [
        "#### Sigmoid Function\n",
        "\n",
        "##### Mathematical Expression\n",
        "$$\n",
        "h(x) = \\frac{1}{1 + \\exp(-x)}\n",
        "$$"
      ]
    },
    {
      "metadata": {
        "id": "5ME6Gms7RYz5",
        "colab_type": "code",
        "colab": {}
      },
      "cell_type": "code",
      "source": [
        "def sigmoid(x):\n",
        "  return 1 / (1 + np.exp(-x))"
      ],
      "execution_count": 0,
      "outputs": []
    },
    {
      "metadata": {
        "id": "NjZMMFKERd_x",
        "colab_type": "code",
        "outputId": "4bdf105f-8060-4153-9193-0899765e718b",
        "colab": {
          "base_uri": "https://localhost:8080/",
          "height": 265
        }
      },
      "cell_type": "code",
      "source": [
        "x = np.arange(-5.0, 5.0, 0.1)\n",
        "y = sigmoid(x)\n",
        "\n",
        "plt.plot(x, y)\n",
        "plt.ylim(-0.1, 1.1) # y axis scope\n",
        "plt.show()"
      ],
      "execution_count": 54,
      "outputs": [
        {
          "output_type": "display_data",
          "data": {
            "image/png": "[encoded data removed]",
            "text/plain": [
              "<Figure size 432x288 with 1 Axes>"
            ]
          },
          "metadata": {
            "tags": []
          }
        }
      ]
    },
    {
      "metadata": {
        "id": "WEjUersmR3R6",
        "colab_type": "text"
      },
      "cell_type": "markdown",
      "source": [
        "#### Step Function vs Sigmoid Function\n",
        "Step Function is linear function, Sigmoid Function is non-linear function. Linear function is literaly linear function which can be represented by one line, non-linear function is the opposite thing.\n",
        "\n",
        "##### Linear function in neural network\n",
        "In nerual network, we should use non-linear function because if we use linear function there's no merit to deepen the hidden layer."
      ]
    },
    {
      "metadata": {
        "id": "xTTrqEvKS0uv",
        "colab_type": "text"
      },
      "cell_type": "markdown",
      "source": [
        "#### ReLU Function\n",
        "\n",
        "##### Mathematical Expression\n",
        "$$\n",
        "h(x) = \n",
        "\\begin{cases}\n",
        " \\ x \\,\\,(x > 0) \\\\\n",
        " \\ 0 \\,\\,(x \\leq 0)\n",
        "\\end{cases}\n",
        "$$"
      ]
    },
    {
      "metadata": {
        "id": "AI1kMrDISzOj",
        "colab_type": "code",
        "colab": {}
      },
      "cell_type": "code",
      "source": [
        "def relu(x):\n",
        "  return np.maximum(0, x)"
      ],
      "execution_count": 0,
      "outputs": []
    },
    {
      "metadata": {
        "id": "lnCDPofLTMsL",
        "colab_type": "code",
        "outputId": "ae7643ec-8600-4146-8e74-fbee99a84fca",
        "colab": {
          "base_uri": "https://localhost:8080/",
          "height": 283
        }
      },
      "cell_type": "code",
      "source": [
        "x = np.arange(-5.0, 5.0, 0.1)\n",
        "y = relu(x)\n",
        "\n",
        "plt.plot(x, y)\n",
        "plt.ylim(-0.1, 5.1) # y axis scope\n",
        "plt.show"
      ],
      "execution_count": 56,
      "outputs": [
        {
          "output_type": "execute_result",
          "data": {
            "text/plain": [
              "<function matplotlib.pyplot.show>"
            ]
          },
          "metadata": {
            "tags": []
          },
          "execution_count": 56
        },
        {
          "output_type": "display_data",
          "data": {
            "image/png": "[encoded data removed]",
            "text/plain": [
              "<Figure size 432x288 with 1 Axes>"
            ]
          },
          "metadata": {
            "tags": []
          }
        }
      ]
    },
    {
      "metadata": {
        "id": "vXxSqiRp3Kwr",
        "colab_type": "text"
      },
      "cell_type": "markdown",
      "source": [
        "### Output Function\n",
        "According to problem, appropriate output function is different"
      ]
    },
    {
      "metadata": {
        "id": "-jT9SC7w6ZnE",
        "colab_type": "text"
      },
      "cell_type": "markdown",
      "source": [
        "#### Identity Function"
      ]
    },
    {
      "metadata": {
        "id": "XPKx6qkw3JRF",
        "colab_type": "code",
        "colab": {}
      },
      "cell_type": "code",
      "source": [
        "def identity_function(x):\n",
        "  return x"
      ],
      "execution_count": 0,
      "outputs": []
    },
    {
      "metadata": {
        "id": "EuGzW48C7JM_",
        "colab_type": "text"
      },
      "cell_type": "markdown",
      "source": [
        "#### Softmax Function\n",
        "\n",
        "##### Mathematical Expression\n",
        "$$\n",
        "y_k = \\frac{\\exp{(a_k)}}{\\sum\\limits^{n}_{i=1}\\exp{(a_i)}}\n",
        "$$\n",
        "\n",
        "##### Characteristic\n",
        "Summation is 1, so we can understand the output as probability."
      ]
    },
    {
      "metadata": {
        "id": "uDUSlLfs7yKH",
        "colab_type": "code",
        "outputId": "9e9368fa-c380-4d30-a815-cc931781b6a6",
        "colab": {
          "base_uri": "https://localhost:8080/",
          "height": 71
        }
      },
      "cell_type": "code",
      "source": [
        "a = np.array([0.3, 2.9, 4.0])\n",
        "\n",
        "exp_a = np.exp(a)\n",
        "print(exp_a)\n",
        "\n",
        "sum_exp_a = np.sum(exp_a)\n",
        "print(sum_exp_a)\n",
        "\n",
        "y = exp_a / sum_exp_a\n",
        "print(y)"
      ],
      "execution_count": 58,
      "outputs": [
        {
          "output_type": "stream",
          "text": [
            "[ 1.34985881 18.17414537 54.59815003]\n",
            "74.1221542101633\n",
            "[0.01821127 0.24519181 0.73659691]\n"
          ],
          "name": "stdout"
        }
      ]
    },
    {
      "metadata": {
        "id": "p2x5l4C08PM-",
        "colab_type": "text"
      },
      "cell_type": "markdown",
      "source": [
        "##### Caution!\n",
        "$e^{1000}$ is infinite value, so we have to improve this function\n",
        "\n",
        "###### Improved Softmax for programming\n",
        "$$\n",
        "\\begin{split}\n",
        "y_k = \\frac{\\exp{(a_k)}}{\\sum\\limits^{n}_{i=1}\\exp{(a_i)}}\n",
        "&= \\frac{C\\exp{(a_k)}}{C\\sum\\limits^{n}_{i=1}\\exp{(a_i)}} \\\\\n",
        "&= \\frac{\\exp{(a_k + \\log{C})}}{\\sum\\limits^{n}_{i=1}\\exp{(a_i  + \\log{C})}} \\\\\n",
        "&= \\frac{\\exp{(a_k + \\log{C^{'}})}}{\\sum\\limits^{n}_{i=1}\\exp{(a_i  + \\log{C^{'}})}}\n",
        "\\end{split}\n",
        "$$"
      ]
    },
    {
      "metadata": {
        "id": "xNy1kVQI8D8q",
        "colab_type": "code",
        "colab": {}
      },
      "cell_type": "code",
      "source": [
        "def softmax(a):\n",
        "  c = np.max(a)\n",
        "  exp_a = np.exp(a - c)\n",
        "  sum_exp_a = np.sum(exp_a)\n",
        "  y = exp_a / sum_exp_a\n",
        "  \n",
        "  return y"
      ],
      "execution_count": 0,
      "outputs": []
    },
    {
      "metadata": {
        "id": "l39GM7xpm385",
        "colab_type": "text"
      },
      "cell_type": "markdown",
      "source": [
        "### Three-Layer Neural Network\n",
        "By using numpy, we can easily implement signal transmission."
      ]
    },
    {
      "metadata": {
        "id": "Z2QrQPjv3XgT",
        "colab_type": "text"
      },
      "cell_type": "markdown",
      "source": [
        "#### First Layer\n",
        "$$\n",
        "\\mathbf{A} ^{(1)} = \\mathbf{XW}^{(1)} + \\mathbf{B}^{(1)}\n",
        "$$\n",
        "<!-- mathbf: bold -->\n",
        "\n",
        "##### First Layer Matrices\n",
        "$$\n",
        "\\mathbf{X} = \\left({\\begin{array}{cc} x_1 & x_2 \\end{array}}\\right)\n",
        "\\\\\n",
        "\\mathbf{A}^{(1)} = \\left({\\begin{array}{ccc} a_1^{(1)} & a_2^{(1)} & a_3^{(1)} \\end{array}}\\right)\n",
        "\\\\\n",
        "\\mathbf{B}^{(1)} = \\left({\\begin{array}{ccc} b_1^{(1)} & b_2^{(1)} & b_3^{(1)} \\end{array}}\\right)\n",
        "\\\\~\\\\\n",
        "\\mathbf{W}^{(1)} \n",
        "= \\left({\\begin{array}{ccc} \n",
        "w_{11}^{(1)} & w_{21}^{(1)} & w_{31}^{(1)} \\\\\n",
        "w_{12}^{(1)} & w_{22}^{(1)} & w_{32}^{(1)}\n",
        "\\end{array}}\\right)\n",
        "$$"
      ]
    },
    {
      "metadata": {
        "id": "bgNNBDbVsgfJ",
        "colab_type": "code",
        "outputId": "5f637272-5729-4c2a-cf53-f04a9d0ef79f",
        "colab": {
          "base_uri": "https://localhost:8080/",
          "height": 143
        }
      },
      "cell_type": "code",
      "source": [
        "X = np.array([1.0, 0.5])\n",
        "W1 = np.array([[0.1, 0.3, 0.5], [0.2, 0.4, 0.6]])\n",
        "B1 = np.array([0.1, 0.2, 0.3])\n",
        "\n",
        "A1 = np.dot(X, W1) + B1\n",
        "Z1 = sigmoid(A1)\n",
        "\n",
        "print(X.shape)\n",
        "print(W1.shape)\n",
        "print(B1.shape)\n",
        "print(A1.shape, end='\\n\\n')\n",
        "\n",
        "print(A1)\n",
        "print(Z1)"
      ],
      "execution_count": 60,
      "outputs": [
        {
          "output_type": "stream",
          "text": [
            "(2,)\n",
            "(2, 3)\n",
            "(3,)\n",
            "(3,)\n",
            "\n",
            "[0.3 0.7 1.1]\n",
            "[0.57444252 0.66818777 0.75026011]\n"
          ],
          "name": "stdout"
        }
      ]
    },
    {
      "metadata": {
        "id": "IQbf5l9a2QGa",
        "colab_type": "text"
      },
      "cell_type": "markdown",
      "source": [
        "#### Second Layer"
      ]
    },
    {
      "metadata": {
        "id": "cG8zc1Wk2R2D",
        "colab_type": "code",
        "outputId": "3c1459b5-162b-4e5f-b0a7-10ca2062bd6b",
        "colab": {
          "base_uri": "https://localhost:8080/",
          "height": 143
        }
      },
      "cell_type": "code",
      "source": [
        "W2 = np.array([[0.1, 0.4], [0.2, 0.5], [0.3, 0.6]])\n",
        "B2 = np.array([0.1, 0.2])\n",
        "\n",
        "A2 = np.dot(Z1, W2) + B2\n",
        "Z2 = sigmoid(A2)\n",
        "\n",
        "print(Z1.shape)\n",
        "print(W2.shape)\n",
        "print(B2.shape)\n",
        "print(A2.shape, end='\\n\\n')\n",
        "\n",
        "print(A2)\n",
        "print(Z2)"
      ],
      "execution_count": 61,
      "outputs": [
        {
          "output_type": "stream",
          "text": [
            "(3,)\n",
            "(3, 2)\n",
            "(2,)\n",
            "(2,)\n",
            "\n",
            "[0.51615984 1.21402696]\n",
            "[0.62624937 0.7710107 ]\n"
          ],
          "name": "stdout"
        }
      ]
    },
    {
      "metadata": {
        "id": "R8voMnGd3VbJ",
        "colab_type": "text"
      },
      "cell_type": "markdown",
      "source": [
        "#### Third Layer"
      ]
    },
    {
      "metadata": {
        "id": "3vtrWz3C3a-4",
        "colab_type": "code",
        "outputId": "8b5603c4-1680-4ad3-cb74-46939e8b60e6",
        "colab": {
          "base_uri": "https://localhost:8080/",
          "height": 35
        }
      },
      "cell_type": "code",
      "source": [
        "W3 = np.array([[0.1, 0.3], [0.2, 0.4]])\n",
        "B3 = np.array([0.1, 0.2])\n",
        "\n",
        "A3 = np.dot(Z2, W3) + B3\n",
        "Y = identity_function(A3) # same with Y = A3\n",
        "\n",
        "print(Y)"
      ],
      "execution_count": 62,
      "outputs": [
        {
          "output_type": "stream",
          "text": [
            "[0.31682708 0.69627909]\n"
          ],
          "name": "stdout"
        }
      ]
    },
    {
      "metadata": {
        "id": "SnQKgeoK32e-",
        "colab_type": "text"
      },
      "cell_type": "markdown",
      "source": [
        "#### Three-Layer Neural Network Class"
      ]
    },
    {
      "metadata": {
        "id": "ItqsAOpv318E",
        "colab_type": "code",
        "colab": {}
      },
      "cell_type": "code",
      "source": [
        "class ThreeLayerNeuralNetwork:\n",
        "  def __init__(self):\n",
        "    self.network = {}\n",
        "    self.network['W1'] = np.array([[0.1, 0.3, 0.5], [0.2, 0.4, 0.6]])\n",
        "    self.network['b1'] = np.array([0.1, 0.2, 0.3])\n",
        "    self.network['W2'] = np.array([[0.1, 0.4], [0.2, 0.5], [0.3, 0.6]])\n",
        "    self.network['b2'] = np.array([0.1, 0.2])\n",
        "    self.network['W3'] = np.array([[0.1, 0.3], [0.2, 0.4]])\n",
        "    self.network['b3'] = np.array([0.1, 0.2])\n",
        "  \n",
        "  def forward(self, x):\n",
        "    network = self.network\n",
        "    \n",
        "    W1, W2, W3 = network['W1'], network['W2'], network['W3']\n",
        "    b1, b2, b3 = network['b1'], network['b2'], network['b3']\n",
        "    \n",
        "    a1 = np.dot(x, W1) + b1\n",
        "    z1 = sigmoid(a1)\n",
        "    a2 = np.dot(z1, W2) + b2\n",
        "    z2 = sigmoid(a2)\n",
        "    a3 = np.dot(z2, W3) + b3\n",
        "    y = identity_function(a3)\n",
        "    \n",
        "    return y"
      ],
      "execution_count": 0,
      "outputs": []
    },
    {
      "metadata": {
        "id": "C4YvPhkW4-su",
        "colab_type": "code",
        "outputId": "a90c92ac-25dc-42be-b5e0-520c6c18e5eb",
        "colab": {
          "base_uri": "https://localhost:8080/",
          "height": 35
        }
      },
      "cell_type": "code",
      "source": [
        "network = ThreeLayerNeuralNetwork()\n",
        "x = np.array([1.0, 0.5])\n",
        "y = network.forward(x)\n",
        "\n",
        "print(y)"
      ],
      "execution_count": 64,
      "outputs": [
        {
          "output_type": "stream",
          "text": [
            "[0.31682708 0.69627909]\n"
          ],
          "name": "stdout"
        }
      ]
    },
    {
      "metadata": {
        "id": "N8XxYyvjThnJ",
        "colab_type": "text"
      },
      "cell_type": "markdown",
      "source": [
        "## Matrix & Numpy\n"
      ]
    },
    {
      "metadata": {
        "id": "6fsXJBYhTmVh",
        "colab_type": "text"
      },
      "cell_type": "markdown",
      "source": [
        "### Multidimensional Matrix"
      ]
    },
    {
      "metadata": {
        "id": "ZnO7DSadTqcb",
        "colab_type": "code",
        "outputId": "4542efed-2830-4659-8624-c523c19d33e1",
        "colab": {
          "base_uri": "https://localhost:8080/",
          "height": 305
        }
      },
      "cell_type": "code",
      "source": [
        "A = np.array([1, 2, 3, 4])\n",
        "\n",
        "print(\"A: \", A)\n",
        "print(\"Dimension of A: \", np.ndim(A))\n",
        "print(\"Shape of A: \", A.shape)\n",
        "print(\"Type of A.shape: \", type(A.shape))\n",
        "print(\"A.shape[0]: \", A.shape[0])\n",
        "print(\"type(A.shape[0]): \", type(A.shape[0]))\n",
        "\n",
        "print()\n",
        "\n",
        "B = np.array([[1, 2], [3, 4], [5, 6]])\n",
        "print(\"B: \\n\", B)\n",
        "print(\"Dimension of B: \", np.ndim(B))\n",
        "print(\"Shape of B: \", B.shape)\n",
        "print(\"Type of B.shape: \", type(B.shape))\n",
        "print(\"B.shape[0]: \", B.shape[0])\n",
        "print(\"type(B.shape[0]): \", type(B.shape[0]))"
      ],
      "execution_count": 65,
      "outputs": [
        {
          "output_type": "stream",
          "text": [
            "A:  [1 2 3 4]\n",
            "Dimension of A:  1\n",
            "Shape of A:  (4,)\n",
            "Type of A.shape:  <class 'tuple'>\n",
            "A.shape[0]:  4\n",
            "type(A.shape[0]):  <class 'int'>\n",
            "\n",
            "B: \n",
            " [[1 2]\n",
            " [3 4]\n",
            " [5 6]]\n",
            "Dimension of B:  2\n",
            "Shape of B:  (3, 2)\n",
            "Type of B.shape:  <class 'tuple'>\n",
            "B.shape[0]:  3\n",
            "type(B.shape[0]):  <class 'int'>\n"
          ],
          "name": "stdout"
        }
      ]
    },
    {
      "metadata": {
        "id": "Is2JaCiWVc_9",
        "colab_type": "text"
      },
      "cell_type": "markdown",
      "source": [
        "### Matrix Multiplication"
      ]
    },
    {
      "metadata": {
        "id": "Ak-dtUlNU8e_",
        "colab_type": "code",
        "outputId": "184e47ef-a6f1-4872-f10b-6263f3ceeac4",
        "colab": {
          "base_uri": "https://localhost:8080/",
          "height": 71
        }
      },
      "cell_type": "code",
      "source": [
        "A = np.array([[1, 2], [3, 4]])\n",
        "B = np.array([[5, 6], [7, 8]])\n",
        "\n",
        "print(A.shape == B.shape)\n",
        "print(np.dot(A, B))"
      ],
      "execution_count": 66,
      "outputs": [
        {
          "output_type": "stream",
          "text": [
            "True\n",
            "[[19 22]\n",
            " [43 50]]\n"
          ],
          "name": "stdout"
        }
      ]
    },
    {
      "metadata": {
        "id": "SNNyw1MRV_IM",
        "colab_type": "code",
        "outputId": "6eba92f1-0ccb-469a-dec5-125053579c50",
        "colab": {
          "base_uri": "https://localhost:8080/",
          "height": 53
        }
      },
      "cell_type": "code",
      "source": [
        "A = np.array([[1, 2, 3], [4, 5, 6]])\n",
        "B = np.array([[1, 2], [3, 4], [5, 6]])\n",
        "\n",
        "print(np.dot(A, B))"
      ],
      "execution_count": 67,
      "outputs": [
        {
          "output_type": "stream",
          "text": [
            "[[22 28]\n",
            " [49 64]]\n"
          ],
          "name": "stdout"
        }
      ]
    }
  ]
}